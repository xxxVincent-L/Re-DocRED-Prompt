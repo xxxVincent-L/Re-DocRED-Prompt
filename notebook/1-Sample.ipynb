{
 "cells": [
  {
   "cell_type": "markdown",
   "metadata": {},
   "source": [
    "# Intro\n",
    "\n",
    "The preliminary prompt should be divided into 4 parts.\n",
    "\n",
    "* Instruction\n",
    "\n",
    "    Instruction: the paragraph is from an article of Wikipedia. Category the relation between the `entity (to be substituted)` to one or more available values, the available values are:\n",
    "    \n",
    "    **We can add the type of the entity.**\n",
    "    \n",
    "    \n",
    "* Entity\n",
    "    \n",
    "    We will replace the `entity (to be substituted)` in the **Instruction** part using the entities we have.\n",
    "    \n",
    "    \n",
    "* Relation\n",
    "\n",
    "    Here, the relation should be the 91 kinds of relations in paper.\n",
    "    \n",
    "    \n",
    "* Paragraph\n",
    "\n",
    "    In the paper, a paragraph should be the unit of the analysis."
   ]
  },
  {
   "cell_type": "code",
   "execution_count": 2,
   "metadata": {},
   "outputs": [],
   "source": [
    "import ujson as json\n",
    "import numpy as np\n",
    "import pandas as pd\n",
    "import openai"
   ]
  },
  {
   "cell_type": "code",
   "execution_count": 3,
   "metadata": {},
   "outputs": [],
   "source": [
    "file = './data/1-article-sample.json'\n",
    "\n",
    "with open(file, \"r\") as fh:\n",
    "    data = json.load(fh)\n",
    "    \n",
    "# print(data)"
   ]
  },
  {
   "cell_type": "code",
   "execution_count": 4,
   "metadata": {},
   "outputs": [],
   "source": [
    "# For further's convenience.\n",
    "\n",
    "i = 0\n",
    "\n",
    "title = data[i]['title']\n",
    "vertex = data[i]['vertexSet']\n",
    "sentence = data[i]['sents']\n",
    "labels = data[i]['labels']\n"
   ]
  },
  {
   "cell_type": "code",
   "execution_count": 5,
   "metadata": {},
   "outputs": [
    {
     "name": "stdout",
     "output_type": "stream",
     "text": [
      "The Loud Tour was the fourth overall and third world concert tour by Barbadian recording artist Rihanna . Performing in over twenty countries in the Americas and Europe , the tour was launched in support of Rihanna 's fifth studio album Loud ( 2010 ) . Critics acclaimed the show for its liveliness and higher caliber of quality when compared to Rihanna 's previous tours . The Loud Tour was a large commercial success , experiencing demand for an extension of shows in the United Kingdom due to popularity . In London , Rihanna played a record breaking 10 dates at The O2 Arena . The tour ultimately grossed an estimated value of US$ 90 million from 98 reported shows and a total audience of 1,200,800 . The Loud Tour became the seventh - highest grossing tour of 2011 .\n"
     ]
    }
   ],
   "source": [
    "# Preprocessing the sentences.\n",
    "\n",
    "# This concatenation ignore some special form like hyphen.\n",
    "# But I think it can be good example to test the robustness of this model.\n",
    "\n",
    "sentence_list = [' '.join(s) for s in sentence]\n",
    "\n",
    "# print(sentence_list)\n",
    "\n",
    "paragraph = ' '.join(sentence_list)\n",
    "\n",
    "print(paragraph)"
   ]
  },
  {
   "cell_type": "code",
   "execution_count": 6,
   "metadata": {},
   "outputs": [
    {
     "name": "stdout",
     "output_type": "stream",
     "text": [
      "hi\n"
     ]
    }
   ],
   "source": [
    "# Process the relation labels\n",
    "\n",
    "# This one is for the test.\n",
    "\n",
    "relation = ['located in the administrative territorial entity','hi']\n",
    "\n",
    "print(relation[1])"
   ]
  },
  {
   "cell_type": "code",
   "execution_count": 7,
   "metadata": {},
   "outputs": [
    {
     "name": "stdout",
     "output_type": "stream",
     "text": [
      "{\n",
      "  \"choices\": [\n",
      "    {\n",
      "      \"finish_reason\": \"stop\",\n",
      "      \"index\": 0,\n",
      "      \"logprobs\": null,\n",
      "      \"text\": \": 2010\"\n",
      "    }\n",
      "  ],\n",
      "  \"created\": 1677295401,\n",
      "  \"id\": \"cmpl-6nfRZS36aB2lJhOMbl4O7ObyUaaip\",\n",
      "  \"model\": \"text-davinci-003\",\n",
      "  \"object\": \"text_completion\",\n",
      "  \"usage\": {\n",
      "    \"completion_tokens\": 2,\n",
      "    \"prompt_tokens\": 242,\n",
      "    \"total_tokens\": 244\n",
      "  }\n",
      "}\n"
     ]
    }
   ],
   "source": [
    "import os\n",
    "import openai\n",
    "\n",
    "openai.api_key = os.getenv(\"OPENAI_API_KEY\")\n",
    "\n",
    "response = openai.Completion.create(\n",
    "  model=\"text-davinci-003\",\n",
    "  prompt=\"Instruction: the paragraph is from an article of Wikipedia. Category the relation between the entity 'Loud' and entity '2010' to one or more available values, the available values are:\\n\\n- located in the administrative territorial entity\\n- performer\\n- Country\\n- publication data\\n- start time\\n- end time\\n- point in time\\n- conflict\\n\\n\\\"\\\"\\\"\\nThe Loud Tour was the fourth overall and third world concert tour by Barbadian recording artist Rihanna . Performing in over twenty countries in the Americas and Europe , the tour was launched in support of Rihanna 's fifth studio album Loud ( 2010 ) . Critics acclaimed the show for its liveliness and higher caliber of quality when compared to Rihanna 's previous tours . The Loud Tour was a large commercial success , experiencing demand for an extension of shows in the United Kingdom due to popularity . In London , Rihanna played a record breaking 10 dates at The O2 Arena . The tour ultimately grossed an estimated value of US$ 90 million from 98 reported shows and a total audience of 1,200,800 . The Loud Tour became the seventh - highest grossing tour of 2011 .\\n\\\"\\\"\\\"\\n\\nPublication data\",\n",
    "  temperature=0.7,\n",
    "  max_tokens=256,\n",
    "  top_p=1,\n",
    "  frequency_penalty=0,\n",
    "  presence_penalty=0\n",
    ")\n",
    "\n",
    "print(response)"
   ]
  },
  {
   "cell_type": "code",
   "execution_count": 19,
   "metadata": {},
   "outputs": [
    {
     "name": "stdout",
     "output_type": "stream",
     "text": [
      "the paragraph is from an article of Wikipedia. Category the relation between the entity Loudand entityRihana to one or more available values, the available values are:\n",
      "\n",
      "-publication data\n",
      "\n",
      "The Loud Tour was the fourth overall and third world concert tour by Barbadian recording artist Rihanna . Performing in over twenty countries in the Americas and Europe , the tour was launched in support of Rihanna 's fifth studio album Loud ( 2010 ) . Critics acclaimed the show for its liveliness and higher caliber of quality when compared to Rihanna 's previous tours . The Loud Tour was a large commercial success , experiencing demand for an extension of shows in the United Kingdom due to popularity . In London , Rihanna played a record breaking 10 dates at The O2 Arena . The tour ultimately grossed an estimated value of US$ 90 million from 98 reported shows and a total audience of 1,200,800 . The Loud Tour became the seventh - highest grossing tour of 2011 .\n"
     ]
    }
   ],
   "source": [
    "# prompt function\n",
    "\n",
    "instruction = [] \n",
    "\n",
    "instruction.append('the paragraph is from an article of Wikipedia. Category the relation between the entity ')\n",
    "instruction.append('and entity')\n",
    "instruction.append(' to one or more available values, the available values are:')\n",
    "\n",
    "# print(Instruction)\n",
    "\n",
    "# To-do\n",
    "entities = ['Loud','Rihana']\n",
    "\n",
    "relations = ['performer','publication date']\n",
    "\n",
    "\n",
    "# To-do\n",
    "relation = ''\n",
    "for r in relations:\n",
    "    relation = '-'+ r+'\\n'\n",
    "    \n",
    "    \n",
    "# train_file = './data/1-article-sample.json'\n",
    "\n",
    "# with open(file, \"r\") as fh:\n",
    "#     data = json.load(fh)\n",
    "        \n",
    "\n",
    "    \n",
    "\n",
    "def relation_classification(instruction, relation,  paragraph):\n",
    "\n",
    "    concat_instruction = instruction[0]+entities[0]+instruction[1]+entities[1]+instruction[2] + '\\n'\n",
    "    \n",
    "    \n",
    "    handcrafted_prompt = concat_instruction +'\\n'+ relation + '\\n'+paragraph\n",
    "    \n",
    "    print(handcrafted_prompt)\n",
    "\n",
    "#     response = openai.Completion.create(\n",
    "#     engine=\"text-davinci-002\",\n",
    "#     prompt=handcrafted_prompt,\n",
    "#     temperature=0.7,\n",
    "#     max_tokens=256,\n",
    "#     top_p=1,\n",
    "#     frequency_penalty=0,\n",
    "#     presence_penalty=0\n",
    "#     )\n",
    "\n",
    "#       return response\n",
    "\n",
    "relation_classification(instruction,relation,paragraph)"
   ]
  },
  {
   "cell_type": "code",
   "execution_count": null,
   "metadata": {},
   "outputs": [],
   "source": [
    "import os\n",
    "import openai\n",
    "\n",
    "openai.api_key = os.getenv(\"OPENAI_API_KEY\")\n",
    "\n",
    "instruction = []\n",
    "\n",
    "# instruction.append(\n",
    "#     'Instruction: the paragraph is from an article of Wikipedia. Category the relation between the entity ')\n",
    "instruction.append('Instruction: Specify the relations that exist between the entity \\'')\n",
    "instruction.append('\\' and entity \\'')\n",
    "# instruction.append('\\' to one or more available values, the available values are:')\n",
    "instruction.append('\\'. Choose from the following relations:')\n",
    "\n",
    "# 'Specify the relations that exist between the entities'\n",
    "# To-do\n",
    "entities = ['Loud', 'Rihana']\n",
    "\n",
    "relations = ['start time', 'Country', 'performer', 'publication date']\n",
    "\n",
    "relation = ''\n",
    "for r in relations:\n",
    "    temp = '-' + r + '\\n'\n",
    "    relation += temp\n",
    "\n",
    "paragraph = \"The Loud Tour was the fourth overall and third world concert tour by Barbadian recording artist Rihanna . Performing in over twenty countries in the Americas and Europe , the tour was launched in support of Rihanna 's fifth studio album Loud ( 2010 ) . Critics acclaimed the show for its liveliness and higher caliber of quality when compared to Rihanna 's previous tours . The Loud Tour was a large commercial success , experiencing demand for an extension of shows in the United Kingdom due to popularity . In London , Rihanna played a record breaking 10 dates at The O2 Arena . The tour ultimately grossed an estimated value of US$ 90 million from 98 reported shows and a total audience of 1,200,800 . The Loud Tour became the seventh - highest grossing tour of 2011 .\"\n",
    "\n",
    "\n",
    "def relation_classification(instruction, relation, paragraph):\n",
    "    concat_instruction = instruction[0] + entities[0] + instruction[1] + entities[1] + instruction[2] + '\\n'\n",
    "\n",
    "    handcrafted_prompt = concat_instruction + '\\n' + relation + '\\n' + '\"\"\"\\n' + paragraph + '\\n\"\"\"\\n'\n",
    "\n",
    "    print(handcrafted_prompt)\n",
    "\n",
    "    response = openai.Completion.create(\n",
    "        engine=\"text-davinci-002\",\n",
    "        prompt=handcrafted_prompt,\n",
    "        temperature=0.7,\n",
    "        max_tokens=256,\n",
    "        top_p=1,\n",
    "        frequency_penalty=0,\n",
    "        presence_penalty=0\n",
    "    )\n",
    "\n",
    "    return response['choices'][0]['text']\n",
    "\n",
    "\n",
    "rel = relation_classification(instruction, relation, paragraph)\n",
    "\n",
    "print(rel)\n",
    "\n",
    "# print(response['choices']['text'])\n"
   ]
  },
  {
   "cell_type": "code",
   "execution_count": null,
   "metadata": {},
   "outputs": [],
   "source": []
  }
 ],
 "metadata": {
  "kernelspec": {
   "display_name": "Python 3 (ipykernel)",
   "language": "python",
   "name": "python3"
  },
  "language_info": {
   "codemirror_mode": {
    "name": "ipython",
    "version": 3
   },
   "file_extension": ".py",
   "mimetype": "text/x-python",
   "name": "python",
   "nbconvert_exporter": "python",
   "pygments_lexer": "ipython3",
   "version": "3.7.9"
  }
 },
 "nbformat": 4,
 "nbformat_minor": 4
}
